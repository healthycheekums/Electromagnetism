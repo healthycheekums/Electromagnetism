{
 "cells": [
  {
   "cell_type": "markdown",
   "metadata": {},
   "source": [
    "# Computing Electric Field Along the Axis of a Charged Ring With a Computer"
   ]
  },
  {
   "cell_type": "markdown",
   "metadata": {},
   "source": [
    "This program computes the net electric field due to a uniformly charged ring of radius $R$ and charge $Q$ at a given point in space."
   ]
  },
  {
   "cell_type": "code",
   "execution_count": 3,
   "metadata": {
    "collapsed": false
   },
   "outputs": [],
   "source": [
    "from __future__ import division, print_function\n",
    "from vpython import *\n",
    "from math import *"
   ]
  },
  {
   "cell_type": "code",
   "execution_count": 37,
   "metadata": {
    "collapsed": false
   },
   "outputs": [
    {
     "data": {
      "text/html": [
       "<div id=\"glowscript\" class=\"glowscript\"></div>"
      ],
      "text/plain": [
       "<IPython.core.display.HTML object>"
      ]
     },
     "metadata": {},
     "output_type": "display_data"
    },
    {
     "data": {
      "application/javascript": [
       "window.__context = { glowscript_container: $(\"#glowscript\").removeAttr(\"id\")}"
      ],
      "text/plain": [
       "<IPython.core.display.Javascript object>"
      ]
     },
     "metadata": {},
     "output_type": "display_data"
    },
    {
     "name": "stdout",
     "output_type": "stream",
     "text": [
      "The net electric field =  <-3720.817570, -0.000000, 6846.625779> N/C\n"
     ]
    }
   ],
   "source": [
    "scene=canvas(title=\"Electric field due to uniformly charged ring\")\n",
    "scene.background=color.white\n",
    "\n",
    "R=0.02 #radius of ring in m\n",
    "Q=1e-9 #charge of ring in C\n",
    "N=4 #number of unique pieces\n",
    "\n",
    "#draw the objects\n",
    "myring=ring(pos=vector(0,0,0), radius=R, axis=vector(0,0,1), color=color.blue, thickness=0.02*R)\n",
    "zaxis=cylinder(pos=-2*R*myring.axis, radius=0.015*R, axis=4*R*myring.axis, color=color.black)\n",
    "point=sphere(pos=R*myring.axis, color=color.red, radius=5*zaxis.radius)\n",
    "\n",
    "oofpez=9e9 #1/(4pi epsilon_0) in N m^2/C^2\n",
    "dq=Q/N #charge of a piece\n",
    "dtheta=2*pi/N #theta increment for our loop\n",
    "theta=dtheta/2 #initial theta for first piece of loop\n",
    "Enet=vector(0,0,0) #net electric field of all pieces\n",
    "\n",
    "rpoint=point.pos #location of the point in space to calculate E field\n",
    "\n",
    "scale=1.2*mag(rpoint)/8000 #used to scale the arrows representing E-field\n",
    "\n",
    "while theta<2*pi:\n",
    "    rpiece=R*vector(cos(theta)+1,sin(theta),0) #location of piece\n",
    "    r=rpoint-rpiece #vector from piece to point in space\n",
    "    rmag=mag(r) #magnitude of r\n",
    "    rhat=norm(r) #unit vector for r\n",
    "    dE=oofpez*dq/rmag/rmag*rhat #Electric field due to piece at rpoint\n",
    "    Enet=Enet+dE #net electric field of the first one up to this one\n",
    "    particle=sphere(pos=rpiece, radius=point.radius, color=color.yellow) #draw a particle at center of piece\n",
    "    dEvector=arrow(pos=rpoint, axis=scale*dE, color=color.magenta, shaftwidth=point.radius/2)\n",
    "    theta=theta+dtheta\n",
    "\n",
    "print(\"The net electric field = \",Enet, \"N/C\")\n",
    "Evector=arrow(pos=rpoint, axis=scale*Enet, color=color.orange, shaftwidth=point.radius/2)"
   ]
  },
  {
   "cell_type": "code",
   "execution_count": 36,
   "metadata": {
    "collapsed": false
   },
   "outputs": [
    {
     "data": {
      "text/html": [
       "<div id=\"glowscript\" class=\"glowscript\"></div>"
      ],
      "text/plain": [
       "<IPython.core.display.HTML object>"
      ]
     },
     "metadata": {},
     "output_type": "display_data"
    },
    {
     "data": {
      "application/javascript": [
       "window.__context = { glowscript_container: $(\"#glowscript\").removeAttr(\"id\")}"
      ],
      "text/plain": [
       "<IPython.core.display.Javascript object>"
      ]
     },
     "metadata": {},
     "output_type": "display_data"
    },
    {
     "name": "stdout",
     "output_type": "stream",
     "text": [
      "The net electric field =  <-844.581709, 844.581709, 306.738205> N/C\n"
     ]
    }
   ],
   "source": [
    "scene=canvas(title=\"Electric field due to uniformly charged ring\")\n",
    "scene.background=color.white\n",
    "\n",
    "R=0.02 #radius of ring in m\n",
    "Q=1e-9 #charge of ring in C\n",
    "N=4 #number of unique pieces\n",
    "\n",
    "#draw the objects\n",
    "myring=ring(pos=vector(0,0,0), radius=R, axis=vector(0,0,1), color=color.blue, thickness=0.02*R)\n",
    "zaxis=cylinder(pos=-2*R*myring.axis, radius=0.015*R, axis=4*R*myring.axis, color=color.black)\n",
    "point=sphere(pos=R*myring.axis, color=color.red, radius=5*zaxis.radius)\n",
    "\n",
    "oofpez=9e9 #1/(4pi epsilon_0) in N m^2/C^2\n",
    "dq=Q/N #charge of a piece\n",
    "dtheta=2*pi/N #theta increment for our loop\n",
    "theta=dtheta/2 #initial theta for first piece of loop\n",
    "Enet=vector(0,0,0) #net electric field of all pieces\n",
    "\n",
    "rpoint=point.pos #location of the point in space to calculate E field\n",
    "scale=1.2*mag(rpoint)/8000 #used to scale the arrows representing E-field\n",
    "\n",
    "while theta<2*pi:\n",
    "    rpiece=R*vector(cos(theta)+3,sin(theta)-3,0) #location of piece\n",
    "    r=rpoint-rpiece #vector from piece to point in space\n",
    "    rmag=mag(r) #magnitude of r\n",
    "    rhat=norm(r) #unit vector for r\n",
    "    dE=oofpez*dq/rmag/rmag*rhat #Electric field due to piece at rpoint\n",
    "    Enet=Enet+dE #net electric field of the first one up to this one\n",
    "    particle=sphere(pos=rpiece, radius=point.radius, color=color.yellow) #draw a particle at center of piece\n",
    "    dEvector=arrow(pos=rpoint, axis=scale*dE, color=color.magenta, shaftwidth=point.radius/2)\n",
    "    theta=theta+dtheta\n",
    "\n",
    "print(\"The net electric field = \",Enet, \"N/C\")\n",
    "Evector=arrow(pos=rpoint, axis=scale*Enet, color=color.orange, shaftwidth=point.radius/2)"
   ]
  },
  {
   "cell_type": "code",
   "execution_count": 35,
   "metadata": {
    "collapsed": false
   },
   "outputs": [
    {
     "data": {
      "text/html": [
       "<div id=\"glowscript\" class=\"glowscript\"></div>"
      ],
      "text/plain": [
       "<IPython.core.display.HTML object>"
      ]
     },
     "metadata": {},
     "output_type": "display_data"
    },
    {
     "data": {
      "application/javascript": [
       "window.__context = { glowscript_container: $(\"#glowscript\").removeAttr(\"id\")}"
      ],
      "text/plain": [
       "<IPython.core.display.Javascript object>"
      ]
     },
     "metadata": {},
     "output_type": "display_data"
    },
    {
     "name": "stdout",
     "output_type": "stream",
     "text": [
      "The net electric field =  <-1900.308846, 1900.308846, 690.160960> N/C\n"
     ]
    }
   ],
   "source": [
    "scene=canvas(title=\"Electric field due to uniformly charged ring\")\n",
    "scene.background=color.white\n",
    "\n",
    "R=0.02 #radius of ring in m\n",
    "Q=1e-9 #charge of ring in C\n",
    "N=4 #number of unique pieces\n",
    "\n",
    "#draw the objects\n",
    "myring=ring(pos=vector(0,0,0), radius=R, axis=vector(0,0,1), color=color.blue, thickness=0.02*R)\n",
    "zaxis=cylinder(pos=-2*R*myring.axis, radius=0.015*R, axis=4*R*myring.axis, color=color.black)\n",
    "point=sphere(pos=R*myring.axis, color=color.red, radius=5*zaxis.radius)\n",
    "\n",
    "oofpez=9e9 #1/(4pi epsilon_0) in N m^2/C^2\n",
    "dq=Q/N #charge of a piece\n",
    "dtheta=2*pi/N #theta increment for our loop\n",
    "theta=dtheta/2 #initial theta for first piece of loop\n",
    "Enet=vector(0,0,0) #net electric field of all pieces\n",
    "\n",
    "#draw the second ring/third ring\n",
    "Q_2=.75e-9 #charge of ring in C\n",
    "myring_2=ring(pos=vector(0,0,-.02), radius=R, axis=vector(0,0,1), color=color.blue, thickness=0.02*R)\n",
    "dq_2=Q_2/N #charge of a piece\n",
    "\n",
    "Q_3=.5e-9 #charge of ring in C\n",
    "myring_2=ring(pos=vector(0,0,-.03), radius=R, axis=vector(0,0,1), color=color.blue, thickness=0.02*R)\n",
    "dq_3=Q_3/N #charge of a piece\n",
    "\n",
    "rpoint=point.pos #location of the point in space to calculate E field\n",
    "scale=1.2*mag(rpoint)/8000 #used to scale the arrows representing E-field\n",
    "\n",
    "while theta<2*pi:\n",
    "    rpiece=R*vector(cos(theta)+3,sin(theta)-3,0) #location of piece\n",
    "    r=rpoint-rpiece #vector from piece to point in space\n",
    "    rmag=mag(r) #magnitude of r\n",
    "    rhat=norm(r) #unit vector for r\n",
    "    dE=oofpez*dq/rmag/rmag*rhat #Electric field due to piece at rpoint\n",
    "    dE_2=oofpez*dq_2/rmag/rmag*rhat #Electric field 2 due to piece at rpoint \n",
    "    dE_3=oofpez*dq_3/rmag/rmag*rhat #Electric field 3 due to piece at rpoint \n",
    "    Enet=Enet+dE+dE_2+dE_3 #net electric field of the first one up to this one\n",
    "    particle=sphere(pos=rpiece, radius=point.radius, color=color.yellow) #draw a particle at center of piece\n",
    "    dEvector=arrow(pos=rpoint, axis=scale*dE, color=color.magenta, shaftwidth=point.radius/2)\n",
    "    theta=theta+dtheta\n",
    "\n",
    "print(\"The net electric field = \",Enet, \"N/C\")\n",
    "Evector=arrow(pos=rpoint, axis=scale*Enet, color=color.orange, shaftwidth=point.radius/2)"
   ]
  },
  {
   "cell_type": "code",
   "execution_count": 40,
   "metadata": {
    "collapsed": false
   },
   "outputs": [
    {
     "data": {
      "text/html": [
       "<div id=\"glowscript\" class=\"glowscript\"></div>"
      ],
      "text/plain": [
       "<IPython.core.display.HTML object>"
      ]
     },
     "metadata": {},
     "output_type": "display_data"
    },
    {
     "data": {
      "application/javascript": [
       "window.__context = { glowscript_container: $(\"#glowscript\").removeAttr(\"id\")}"
      ],
      "text/plain": [
       "<IPython.core.display.Javascript object>"
      ]
     },
     "metadata": {},
     "output_type": "display_data"
    },
    {
     "name": "stdout",
     "output_type": "stream",
     "text": [
      "The net electric field =  <-8371.839532, -0.000000, 15404.908003> N/C\n"
     ]
    }
   ],
   "source": [
    "scene=canvas(title=\"Electric field due to uniformly charged ring\")\n",
    "scene.background=color.white\n",
    "\n",
    "R=0.02 #radius of ring in m\n",
    "Q=1e-9 #charge of ring in C\n",
    "N=4 #number of unique pieces\n",
    "\n",
    "#draw the objects\n",
    "myring=ring(pos=vector(0,0,0), radius=R, axis=vector(0,0,1), color=color.blue, thickness=0.02*R)\n",
    "zaxis=cylinder(pos=-2*R*myring.axis, radius=0.015*R, axis=4*R*myring.axis, color=color.black)\n",
    "point=sphere(pos=R*myring.axis, color=color.red, radius=5*zaxis.radius)\n",
    "\n",
    "oofpez=9e9 #1/(4pi epsilon_0) in N m^2/C^2\n",
    "dq=Q/N #charge of a piece\n",
    "dtheta=2*pi/N #theta increment for our loop\n",
    "theta=dtheta/2 #initial theta for first piece of loop\n",
    "Enet=vector(0,0,0) #net electric field of all pieces\n",
    "\n",
    "#draw the second ring/third ring\n",
    "Q_2=.75e-9 #charge of ring in C\n",
    "myring_2=ring(pos=vector(0,0,-.02), radius=R, axis=vector(0,0,1), color=color.blue, thickness=0.02*R)\n",
    "dq_2=Q_2/N #charge of a piece\n",
    "\n",
    "Q_3=.5e-9 #charge of ring in C\n",
    "myring_2=ring(pos=vector(0,0,-.03), radius=R, axis=vector(0,0,1), color=color.blue, thickness=0.02*R)\n",
    "dq_3=Q_3/N #charge of a piece\n",
    "\n",
    "rpoint=point.pos #location of the point in space to calculate E field\n",
    "scale=1.2*mag(rpoint)/8000 #used to scale the arrows representing E-field\n",
    "\n",
    "while theta<2*pi:\n",
    "    rpiece=R*vector(cos(theta)+1,sin(theta),0) #location of piece\n",
    "    r=rpoint-rpiece #vector from piece to point in space\n",
    "    rmag=mag(r) #magnitude of r\n",
    "    rhat=norm(r) #unit vector for r\n",
    "    dE=oofpez*dq/rmag/rmag*rhat #Electric field due to piece at rpoint\n",
    "    dE_2=oofpez*dq_2/rmag/rmag*rhat #Electric field 2 due to piece at rpoint \n",
    "    dE_3=oofpez*dq_3/rmag/rmag*rhat #Electric field 3 due to piece at rpoint \n",
    "    Enet=Enet+dE+dE_2+dE_3 #net electric field of the first one up to this one\n",
    "    particle=sphere(pos=rpiece, radius=point.radius, color=color.yellow) #draw a particle at center of piece\n",
    "    dEvector=arrow(pos=rpoint, axis=scale*dE, color=color.magenta, shaftwidth=point.radius/2)\n",
    "    theta=theta+dtheta\n",
    "\n",
    "print(\"The net electric field = \",Enet, \"N/C\")\n",
    "Evector=arrow(pos=rpoint, axis=scale*Enet, color=color.orange, shaftwidth=point.radius/2)"
   ]
  },
  {
   "cell_type": "code",
   "execution_count": null,
   "metadata": {
    "collapsed": true
   },
   "outputs": [],
   "source": []
  }
 ],
 "metadata": {
  "anaconda-cloud": {},
  "kernelspec": {
   "display_name": "Python [conda root]",
   "language": "python",
   "name": "conda-root-py"
  }
 },
 "nbformat": 4,
 "nbformat_minor": 0
}
